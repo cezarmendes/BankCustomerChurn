{
 "cells": [
  {
   "cell_type": "markdown",
   "metadata": {},
   "source": [
    "# Exploratory Data Analysis"
   ]
  },
  {
   "cell_type": "markdown",
   "metadata": {},
   "source": [
    "## Loading Packages"
   ]
  },
  {
   "cell_type": "code",
   "execution_count": 2,
   "metadata": {},
   "outputs": [
    {
     "name": "stdout",
     "output_type": "stream",
     "text": [
      "Python version:  3.9.16\n"
     ]
    }
   ],
   "source": [
    "# Python Version\n",
    "from platform import python_version\n",
    "print('Python version: ', python_version())"
   ]
  },
  {
   "cell_type": "code",
   "execution_count": 3,
   "metadata": {},
   "outputs": [],
   "source": [
    "# Imports\n",
    "\n",
    "## Data Manipulation\n",
    "import numpy as np\n",
    "import pandas as pd\n",
    "\n",
    "# Data Visualization\n",
    "import matplotlib.pyplot as plt\n",
    "import seaborn as sns\n",
    "from plotly.subplots import make_subplots\n",
    "import missingno\n",
    "%matplotlib inline\n",
    "from pathlib import Path\n",
    "\n",
    "# Statistics\n",
    "from scipy import stats\n",
    "\n",
    "# Ignore Warning\n",
    "import sys\n",
    "import warnings\n",
    "if not sys.warnoptions:\n",
    "    warnings.simplefilter(\"ignore\")"
   ]
  },
  {
   "cell_type": "code",
   "execution_count": 4,
   "metadata": {},
   "outputs": [
    {
     "name": "stdout",
     "output_type": "stream",
     "text": [
      "Author: Cézar Mendes\n",
      "\n",
      "scipy     : 1.10.1\n",
      "seaborn   : 0.12.2\n",
      "matplotlib: 3.7.1\n",
      "sys       : 3.9.16 (main, Mar  8 2023, 10:39:24) [MSC v.1916 64 bit (AMD64)]\n",
      "missingno : 0.5.1\n",
      "numpy     : 1.24.3\n",
      "pandas    : 1.5.3\n",
      "\n"
     ]
    }
   ],
   "source": [
    "# Package versions\n",
    "%reload_ext watermark\n",
    "%watermark -a \"Cézar Mendes\" --iversions"
   ]
  },
  {
   "cell_type": "markdown",
   "metadata": {},
   "source": [
    "## Loading Data"
   ]
  },
  {
   "cell_type": "code",
   "execution_count": 5,
   "metadata": {},
   "outputs": [
    {
     "data": {
      "text/html": [
       "<div>\n",
       "<style scoped>\n",
       "    .dataframe tbody tr th:only-of-type {\n",
       "        vertical-align: middle;\n",
       "    }\n",
       "\n",
       "    .dataframe tbody tr th {\n",
       "        vertical-align: top;\n",
       "    }\n",
       "\n",
       "    .dataframe thead th {\n",
       "        text-align: right;\n",
       "    }\n",
       "</style>\n",
       "<table border=\"1\" class=\"dataframe\">\n",
       "  <thead>\n",
       "    <tr style=\"text-align: right;\">\n",
       "      <th></th>\n",
       "      <th>customer_id</th>\n",
       "      <th>credit_score</th>\n",
       "      <th>country</th>\n",
       "      <th>gender</th>\n",
       "      <th>age</th>\n",
       "      <th>tenure</th>\n",
       "      <th>balance</th>\n",
       "      <th>products_number</th>\n",
       "      <th>credit_card</th>\n",
       "      <th>active_member</th>\n",
       "      <th>estimated_salary</th>\n",
       "      <th>churn</th>\n",
       "    </tr>\n",
       "  </thead>\n",
       "  <tbody>\n",
       "    <tr>\n",
       "      <th>0</th>\n",
       "      <td>15634602</td>\n",
       "      <td>619</td>\n",
       "      <td>France</td>\n",
       "      <td>0</td>\n",
       "      <td>42</td>\n",
       "      <td>2</td>\n",
       "      <td>0.00</td>\n",
       "      <td>1</td>\n",
       "      <td>1</td>\n",
       "      <td>1</td>\n",
       "      <td>101348.88</td>\n",
       "      <td>1</td>\n",
       "    </tr>\n",
       "    <tr>\n",
       "      <th>1</th>\n",
       "      <td>15647311</td>\n",
       "      <td>608</td>\n",
       "      <td>Spain</td>\n",
       "      <td>0</td>\n",
       "      <td>41</td>\n",
       "      <td>1</td>\n",
       "      <td>83807.86</td>\n",
       "      <td>1</td>\n",
       "      <td>0</td>\n",
       "      <td>1</td>\n",
       "      <td>112542.58</td>\n",
       "      <td>0</td>\n",
       "    </tr>\n",
       "    <tr>\n",
       "      <th>2</th>\n",
       "      <td>15619304</td>\n",
       "      <td>502</td>\n",
       "      <td>France</td>\n",
       "      <td>0</td>\n",
       "      <td>42</td>\n",
       "      <td>8</td>\n",
       "      <td>159660.80</td>\n",
       "      <td>3</td>\n",
       "      <td>1</td>\n",
       "      <td>0</td>\n",
       "      <td>113931.57</td>\n",
       "      <td>1</td>\n",
       "    </tr>\n",
       "    <tr>\n",
       "      <th>3</th>\n",
       "      <td>15701354</td>\n",
       "      <td>699</td>\n",
       "      <td>France</td>\n",
       "      <td>0</td>\n",
       "      <td>39</td>\n",
       "      <td>1</td>\n",
       "      <td>0.00</td>\n",
       "      <td>2</td>\n",
       "      <td>0</td>\n",
       "      <td>0</td>\n",
       "      <td>93826.63</td>\n",
       "      <td>0</td>\n",
       "    </tr>\n",
       "    <tr>\n",
       "      <th>4</th>\n",
       "      <td>15737888</td>\n",
       "      <td>850</td>\n",
       "      <td>Spain</td>\n",
       "      <td>0</td>\n",
       "      <td>43</td>\n",
       "      <td>2</td>\n",
       "      <td>125510.82</td>\n",
       "      <td>1</td>\n",
       "      <td>1</td>\n",
       "      <td>1</td>\n",
       "      <td>79084.10</td>\n",
       "      <td>0</td>\n",
       "    </tr>\n",
       "  </tbody>\n",
       "</table>\n",
       "</div>"
      ],
      "text/plain": [
       "   customer_id  credit_score country  gender  age  tenure    balance  \\\n",
       "0     15634602           619  France       0   42       2       0.00   \n",
       "1     15647311           608   Spain       0   41       1   83807.86   \n",
       "2     15619304           502  France       0   42       8  159660.80   \n",
       "3     15701354           699  France       0   39       1       0.00   \n",
       "4     15737888           850   Spain       0   43       2  125510.82   \n",
       "\n",
       "   products_number  credit_card  active_member  estimated_salary  churn  \n",
       "0                1            1              1         101348.88      1  \n",
       "1                1            0              1         112542.58      0  \n",
       "2                3            1              0         113931.57      1  \n",
       "3                2            0              0          93826.63      0  \n",
       "4                1            1              1          79084.10      0  "
      ]
     },
     "execution_count": 5,
     "metadata": {},
     "output_type": "execute_result"
    }
   ],
   "source": [
    "df = pd.read_csv('../data/Prep_BankCustomerChurn.csv')\n",
    "df.head()"
   ]
  },
  {
   "cell_type": "markdown",
   "metadata": {},
   "source": [
    "# EDA - Exploratory Data Analysis"
   ]
  },
  {
   "cell_type": "code",
   "execution_count": 6,
   "metadata": {},
   "outputs": [
    {
     "name": "stdout",
     "output_type": "stream",
     "text": [
      "<class 'pandas.core.frame.DataFrame'>\n",
      "RangeIndex: 10000 entries, 0 to 9999\n",
      "Data columns (total 12 columns):\n",
      " #   Column            Non-Null Count  Dtype  \n",
      "---  ------            --------------  -----  \n",
      " 0   customer_id       10000 non-null  int64  \n",
      " 1   credit_score      10000 non-null  int64  \n",
      " 2   country           10000 non-null  object \n",
      " 3   gender            10000 non-null  int64  \n",
      " 4   age               10000 non-null  int64  \n",
      " 5   tenure            10000 non-null  int64  \n",
      " 6   balance           10000 non-null  float64\n",
      " 7   products_number   10000 non-null  int64  \n",
      " 8   credit_card       10000 non-null  int64  \n",
      " 9   active_member     10000 non-null  int64  \n",
      " 10  estimated_salary  10000 non-null  float64\n",
      " 11  churn             10000 non-null  int64  \n",
      "dtypes: float64(2), int64(9), object(1)\n",
      "memory usage: 937.6+ KB\n"
     ]
    }
   ],
   "source": [
    "df.info()"
   ]
  },
  {
   "cell_type": "markdown",
   "metadata": {},
   "source": [
    "## Frequency Table"
   ]
  },
  {
   "cell_type": "code",
   "execution_count": 7,
   "metadata": {},
   "outputs": [],
   "source": [
    "def frequency_table(dataframe, columns):\n",
    "    freq_table = pd.DataFrame()\n",
    "    \n",
    "    for col in columns:\n",
    "        # Calculate absolute frequency\n",
    "        freq_abs = dataframe[col].value_counts()\n",
    "        \n",
    "        # Calculate relative frequency\n",
    "        freq_rel = freq_abs / len(dataframe[col])\n",
    "        \n",
    "        # Calculate relative frequency percentage\n",
    "        freq_rel_perc = freq_rel * 100\n",
    "        \n",
    "        # Create frequency table for the current column\n",
    "        col_table = pd.concat([freq_abs, freq_rel, freq_rel_perc], axis=1)\n",
    "        col_table.columns = ['Frequency Absolute', 'Frequency Relative', 'Frequency Relative (%)']\n",
    "        \n",
    "        # Add the current column's frequency table to the overall frequency table\n",
    "        freq_table = pd.concat([freq_table, col_table])\n",
    "        \n",
    "    # Reset index to turn the unique values into a column\n",
    "    freq_table.reset_index(inplace=True)\n",
    "    \n",
    "    # Rename the column holding the unique values\n",
    "    freq_table.rename(columns={'index': 'Unique Values'}, inplace=True)\n",
    "    \n",
    "    # Add column labels to the frequency table\n",
    "    freq_table['Column'] = [col for col in columns for _ in range(len(dataframe[col].value_counts()))]\n",
    "    freq_table.set_index(['Column', 'Unique Values'], inplace=True)\n",
    "    \n",
    "    return freq_table\n"
   ]
  },
  {
   "cell_type": "code",
   "execution_count": 8,
   "metadata": {},
   "outputs": [],
   "source": [
    "df_ = df.copy()"
   ]
  },
  {
   "cell_type": "code",
   "execution_count": 9,
   "metadata": {},
   "outputs": [
    {
     "data": {
      "text/html": [
       "<div>\n",
       "<style scoped>\n",
       "    .dataframe tbody tr th:only-of-type {\n",
       "        vertical-align: middle;\n",
       "    }\n",
       "\n",
       "    .dataframe tbody tr th {\n",
       "        vertical-align: top;\n",
       "    }\n",
       "\n",
       "    .dataframe thead th {\n",
       "        text-align: right;\n",
       "    }\n",
       "</style>\n",
       "<table border=\"1\" class=\"dataframe\">\n",
       "  <thead>\n",
       "    <tr style=\"text-align: right;\">\n",
       "      <th></th>\n",
       "      <th></th>\n",
       "      <th>Frequency Absolute</th>\n",
       "      <th>Frequency Relative</th>\n",
       "      <th>Frequency Relative (%)</th>\n",
       "    </tr>\n",
       "    <tr>\n",
       "      <th>Column</th>\n",
       "      <th>Unique Values</th>\n",
       "      <th></th>\n",
       "      <th></th>\n",
       "      <th></th>\n",
       "    </tr>\n",
       "  </thead>\n",
       "  <tbody>\n",
       "    <tr>\n",
       "      <th rowspan=\"3\" valign=\"top\">country</th>\n",
       "      <th>France</th>\n",
       "      <td>5014</td>\n",
       "      <td>0.5014</td>\n",
       "      <td>50.14</td>\n",
       "    </tr>\n",
       "    <tr>\n",
       "      <th>Germany</th>\n",
       "      <td>2509</td>\n",
       "      <td>0.2509</td>\n",
       "      <td>25.09</td>\n",
       "    </tr>\n",
       "    <tr>\n",
       "      <th>Spain</th>\n",
       "      <td>2477</td>\n",
       "      <td>0.2477</td>\n",
       "      <td>24.77</td>\n",
       "    </tr>\n",
       "    <tr>\n",
       "      <th rowspan=\"2\" valign=\"top\">gender</th>\n",
       "      <th>1</th>\n",
       "      <td>5457</td>\n",
       "      <td>0.5457</td>\n",
       "      <td>54.57</td>\n",
       "    </tr>\n",
       "    <tr>\n",
       "      <th>0</th>\n",
       "      <td>4543</td>\n",
       "      <td>0.4543</td>\n",
       "      <td>45.43</td>\n",
       "    </tr>\n",
       "    <tr>\n",
       "      <th rowspan=\"2\" valign=\"top\">churn</th>\n",
       "      <th>0</th>\n",
       "      <td>7963</td>\n",
       "      <td>0.7963</td>\n",
       "      <td>79.63</td>\n",
       "    </tr>\n",
       "    <tr>\n",
       "      <th>1</th>\n",
       "      <td>2037</td>\n",
       "      <td>0.2037</td>\n",
       "      <td>20.37</td>\n",
       "    </tr>\n",
       "    <tr>\n",
       "      <th rowspan=\"2\" valign=\"top\">active_member</th>\n",
       "      <th>1</th>\n",
       "      <td>5151</td>\n",
       "      <td>0.5151</td>\n",
       "      <td>51.51</td>\n",
       "    </tr>\n",
       "    <tr>\n",
       "      <th>0</th>\n",
       "      <td>4849</td>\n",
       "      <td>0.4849</td>\n",
       "      <td>48.49</td>\n",
       "    </tr>\n",
       "    <tr>\n",
       "      <th rowspan=\"2\" valign=\"top\">credit_card</th>\n",
       "      <th>1</th>\n",
       "      <td>7055</td>\n",
       "      <td>0.7055</td>\n",
       "      <td>70.55</td>\n",
       "    </tr>\n",
       "    <tr>\n",
       "      <th>0</th>\n",
       "      <td>2945</td>\n",
       "      <td>0.2945</td>\n",
       "      <td>29.45</td>\n",
       "    </tr>\n",
       "    <tr>\n",
       "      <th rowspan=\"4\" valign=\"top\">products_number</th>\n",
       "      <th>1</th>\n",
       "      <td>5084</td>\n",
       "      <td>0.5084</td>\n",
       "      <td>50.84</td>\n",
       "    </tr>\n",
       "    <tr>\n",
       "      <th>2</th>\n",
       "      <td>4590</td>\n",
       "      <td>0.4590</td>\n",
       "      <td>45.90</td>\n",
       "    </tr>\n",
       "    <tr>\n",
       "      <th>3</th>\n",
       "      <td>266</td>\n",
       "      <td>0.0266</td>\n",
       "      <td>2.66</td>\n",
       "    </tr>\n",
       "    <tr>\n",
       "      <th>4</th>\n",
       "      <td>60</td>\n",
       "      <td>0.0060</td>\n",
       "      <td>0.60</td>\n",
       "    </tr>\n",
       "  </tbody>\n",
       "</table>\n",
       "</div>"
      ],
      "text/plain": [
       "                               Frequency Absolute  Frequency Relative  \\\n",
       "Column          Unique Values                                           \n",
       "country         France                       5014              0.5014   \n",
       "                Germany                      2509              0.2509   \n",
       "                Spain                        2477              0.2477   \n",
       "gender          1                            5457              0.5457   \n",
       "                0                            4543              0.4543   \n",
       "churn           0                            7963              0.7963   \n",
       "                1                            2037              0.2037   \n",
       "active_member   1                            5151              0.5151   \n",
       "                0                            4849              0.4849   \n",
       "credit_card     1                            7055              0.7055   \n",
       "                0                            2945              0.2945   \n",
       "products_number 1                            5084              0.5084   \n",
       "                2                            4590              0.4590   \n",
       "                3                             266              0.0266   \n",
       "                4                              60              0.0060   \n",
       "\n",
       "                               Frequency Relative (%)  \n",
       "Column          Unique Values                          \n",
       "country         France                          50.14  \n",
       "                Germany                         25.09  \n",
       "                Spain                           24.77  \n",
       "gender          1                               54.57  \n",
       "                0                               45.43  \n",
       "churn           0                               79.63  \n",
       "                1                               20.37  \n",
       "active_member   1                               51.51  \n",
       "                0                               48.49  \n",
       "credit_card     1                               70.55  \n",
       "                0                               29.45  \n",
       "products_number 1                               50.84  \n",
       "                2                               45.90  \n",
       "                3                                2.66  \n",
       "                4                                0.60  "
      ]
     },
     "execution_count": 9,
     "metadata": {},
     "output_type": "execute_result"
    }
   ],
   "source": [
    "\n",
    "df_[['country', 'gender', 'churn', 'active_member', 'credit_card', 'products_number']] = df_[['country', 'gender', 'churn', 'active_member', 'credit_card', 'products_number']].astype('category')\n",
    "\n",
    "frequency_table(df_,df_[['country', 'gender', 'churn', 'active_member', 'credit_card', 'products_number']] )"
   ]
  },
  {
   "cell_type": "markdown",
   "metadata": {},
   "source": [
    "## Descriptive Analysis"
   ]
  },
  {
   "cell_type": "code",
   "execution_count": 10,
   "metadata": {},
   "outputs": [
    {
     "data": {
      "text/plain": [
       "['credit_score', 'age', 'tenure', 'balance', 'estimated_salary']"
      ]
     },
     "execution_count": 10,
     "metadata": {},
     "output_type": "execute_result"
    }
   ],
   "source": [
    "num_list = df.select_dtypes(['float64', 'int64']).drop(columns = ['customer_id','gender', 'churn', 'active_member', 'credit_card', 'products_number']).columns.tolist()\n",
    "num_list"
   ]
  },
  {
   "cell_type": "code",
   "execution_count": 13,
   "metadata": {},
   "outputs": [
    {
     "data": {
      "text/html": [
       "<div>\n",
       "<style scoped>\n",
       "    .dataframe tbody tr th:only-of-type {\n",
       "        vertical-align: middle;\n",
       "    }\n",
       "\n",
       "    .dataframe tbody tr th {\n",
       "        vertical-align: top;\n",
       "    }\n",
       "\n",
       "    .dataframe thead th {\n",
       "        text-align: right;\n",
       "    }\n",
       "</style>\n",
       "<table border=\"1\" class=\"dataframe\">\n",
       "  <thead>\n",
       "    <tr style=\"text-align: right;\">\n",
       "      <th>Columns name</th>\n",
       "      <th>age</th>\n",
       "      <th>credit_score</th>\n",
       "      <th>tenure</th>\n",
       "      <th>balance</th>\n",
       "      <th>estimated_salary</th>\n",
       "    </tr>\n",
       "  </thead>\n",
       "  <tbody>\n",
       "    <tr>\n",
       "      <th>Min</th>\n",
       "      <td>18.00</td>\n",
       "      <td>350.00</td>\n",
       "      <td>0.00</td>\n",
       "      <td>0.00</td>\n",
       "      <td>11.58</td>\n",
       "    </tr>\n",
       "    <tr>\n",
       "      <th>Q1</th>\n",
       "      <td>32.00</td>\n",
       "      <td>584.00</td>\n",
       "      <td>3.00</td>\n",
       "      <td>0.00</td>\n",
       "      <td>51002.11</td>\n",
       "    </tr>\n",
       "    <tr>\n",
       "      <th>Mean</th>\n",
       "      <td>38.92</td>\n",
       "      <td>650.53</td>\n",
       "      <td>5.01</td>\n",
       "      <td>76485.89</td>\n",
       "      <td>100090.24</td>\n",
       "    </tr>\n",
       "    <tr>\n",
       "      <th>Median</th>\n",
       "      <td>37.00</td>\n",
       "      <td>652.00</td>\n",
       "      <td>5.00</td>\n",
       "      <td>97198.54</td>\n",
       "      <td>100193.92</td>\n",
       "    </tr>\n",
       "    <tr>\n",
       "      <th>Q3</th>\n",
       "      <td>44.00</td>\n",
       "      <td>718.00</td>\n",
       "      <td>7.00</td>\n",
       "      <td>127644.24</td>\n",
       "      <td>149388.25</td>\n",
       "    </tr>\n",
       "    <tr>\n",
       "      <th>Max</th>\n",
       "      <td>92.00</td>\n",
       "      <td>850.00</td>\n",
       "      <td>10.00</td>\n",
       "      <td>250898.09</td>\n",
       "      <td>199992.48</td>\n",
       "    </tr>\n",
       "    <tr>\n",
       "      <th>IQR</th>\n",
       "      <td>12.00</td>\n",
       "      <td>134.00</td>\n",
       "      <td>4.00</td>\n",
       "      <td>127644.24</td>\n",
       "      <td>98386.14</td>\n",
       "    </tr>\n",
       "    <tr>\n",
       "      <th>Lower fence</th>\n",
       "      <td>14.00</td>\n",
       "      <td>383.00</td>\n",
       "      <td>-3.00</td>\n",
       "      <td>-191466.36</td>\n",
       "      <td>-96577.10</td>\n",
       "    </tr>\n",
       "    <tr>\n",
       "      <th>Upper fence</th>\n",
       "      <td>62.00</td>\n",
       "      <td>919.00</td>\n",
       "      <td>13.00</td>\n",
       "      <td>319110.60</td>\n",
       "      <td>296967.45</td>\n",
       "    </tr>\n",
       "    <tr>\n",
       "      <th>Skew</th>\n",
       "      <td>1.01</td>\n",
       "      <td>-0.07</td>\n",
       "      <td>0.01</td>\n",
       "      <td>-0.14</td>\n",
       "      <td>0.00</td>\n",
       "    </tr>\n",
       "    <tr>\n",
       "      <th>Num_Outliers</th>\n",
       "      <td>359.00</td>\n",
       "      <td>15.00</td>\n",
       "      <td>0.00</td>\n",
       "      <td>0.00</td>\n",
       "      <td>0.00</td>\n",
       "    </tr>\n",
       "  </tbody>\n",
       "</table>\n",
       "</div>"
      ],
      "text/plain": [
       "Columns name     age  credit_score  tenure    balance  estimated_salary\n",
       "Min            18.00        350.00    0.00       0.00             11.58\n",
       "Q1             32.00        584.00    3.00       0.00          51002.11\n",
       "Mean           38.92        650.53    5.01   76485.89         100090.24\n",
       "Median         37.00        652.00    5.00   97198.54         100193.92\n",
       "Q3             44.00        718.00    7.00  127644.24         149388.25\n",
       "Max            92.00        850.00   10.00  250898.09         199992.48\n",
       "IQR            12.00        134.00    4.00  127644.24          98386.14\n",
       "Lower fence    14.00        383.00   -3.00 -191466.36         -96577.10\n",
       "Upper fence    62.00        919.00   13.00  319110.60         296967.45\n",
       "Skew            1.01         -0.07    0.01      -0.14              0.00\n",
       "Num_Outliers  359.00         15.00    0.00       0.00              0.00"
      ]
     },
     "execution_count": 13,
     "metadata": {},
     "output_type": "execute_result"
    }
   ],
   "source": [
    "# Describe\n",
    "def count_outliers(df):\n",
    "   q1=df.quantile(0.25)\n",
    "   q3=df.quantile(0.75)\n",
    "   IQR=q3-q1\n",
    "   out = ((df < (q1 - 1.5 * IQR)) | (df > (q3 + 1.5 * IQR))).sum()\n",
    "   return out\n",
    "\n",
    "# Skew\n",
    "def calc_skew(df):\n",
    "    return [df[col].skew() for col in df]\n",
    "\n",
    "\n",
    "# Summary Table\n",
    "def getOverview(df):\n",
    "    min = df.min()\n",
    "    Q1 = df.quantile(0.25)\n",
    "    mean = np.mean(df)\n",
    "    median = df.quantile(0.5)\n",
    "    Q3 = df.quantile(0.75)\n",
    "    max = df.max()\n",
    "    IQR = Q3 - Q1\n",
    "    skew = calc_skew(df)\n",
    "    outliers = count_outliers(df)\n",
    "    cut_off = IQR * 1.5\n",
    "    lower, upper = Q1 - cut_off, Q3 + cut_off\n",
    "        \n",
    "    \n",
    "\n",
    "    new_columns = ['Columns name', 'Min', 'Q1','Mean', 'Median', 'Q3', 'Max', 'IQR', 'Lower fence', 'Upper fence', 'Skew', 'Num_Outliers']\n",
    "        \n",
    "    data = zip([column for column in df], min, Q1, mean,  median, Q3, max, IQR, lower, upper, skew, outliers)\n",
    "\n",
    "    new_df = pd.DataFrame(data = data, columns = new_columns)\n",
    "        \n",
    "    new_df.set_index('Columns name', inplace = True)\n",
    "    \\\n",
    "    return new_df.sort_values('Num_Outliers', ascending = False).transpose()\n",
    "\n",
    "getOverview(df[num_list]).round(2)"
   ]
  },
  {
   "cell_type": "markdown",
   "metadata": {},
   "source": [
    "### Age"
   ]
  },
  {
   "cell_type": "code",
   "execution_count": 25,
   "metadata": {},
   "outputs": [
    {
     "data": {
      "image/png": "[encoded data removed]",
      "text/plain": [
       "<Figure size 1200x600 with 2 Axes>"
      ]
     },
     "metadata": {},
     "output_type": "display_data"
    }
   ],
   "source": [
    "# Plot - Age\n",
    "sns.set_theme(style=\"darkgrid\")\n",
    "sns.set_context('paper')\n",
    "\n",
    "# Create the figure and axes\n",
    "fig, (ax1, ax2) = plt.subplots(1, 2, figsize=(12, 6))\n",
    "\n",
    "# Plot histogram \n",
    "sns.histplot(data=df, x='age', ax=ax1)\n",
    "ax1.set_title('Histogram')\n",
    "\n",
    "# Plot box plot \n",
    "sns.boxplot(data=df, x='age', ax=ax2)\n",
    "ax2.set_title('Box Plot')\n",
    "\n",
    "# Adjust spacing between subplots\n",
    "plt.tight_layout()\n",
    "\n",
    "\n",
    "plt.show()"
   ]
  },
  {
   "cell_type": "markdown",
   "metadata": {},
   "source": [
    "### Credit Score"
   ]
  },
  {
   "cell_type": "code",
   "execution_count": 33,
   "metadata": {},
   "outputs": [
    {
     "data": {
      "image/png": "[encoded data removed]",
      "text/plain": [
       "<Figure size 1200x600 with 2 Axes>"
      ]
     },
     "metadata": {},
     "output_type": "display_data"
    }
   ],
   "source": [
    "# Plot - Credit Score\n",
    "sns.set_theme(style=\"darkgrid\")\n",
    "sns.set_context('paper')\n",
    "\n",
    "\n",
    "# Create the figure and axes\n",
    "fig, (ax1, ax2) = plt.subplots(1, 2, figsize=(12, 6))\n",
    "\n",
    "# Plot histogram \n",
    "sns.histplot(data=df, x='credit_score', ax=ax1, color = \"#4361EE\")\n",
    "ax1.set_title('Histogram')\n",
    "\n",
    "# Plot box plot \n",
    "sns.boxplot(data=df, x='credit_score', ax=ax2, color = \"#4361EE\")\n",
    "ax2.set_title('Box Plot')\n",
    "\n",
    "# Adjust spacing between subplots\n",
    "plt.tight_layout()\n",
    "\n",
    "\n",
    "plt.show()"
   ]
  },
  {
   "cell_type": "markdown",
   "metadata": {},
   "source": [
    "### Tenure"
   ]
  },
  {
   "cell_type": "code",
   "execution_count": 38,
   "metadata": {},
   "outputs": [
    {
     "data": {
      "image/png": "[encoded data removed]",
      "text/plain": [
       "<Figure size 1200x600 with 2 Axes>"
      ]
     },
     "metadata": {},
     "output_type": "display_data"
    }
   ],
   "source": [
    "# Plot - Tenure\n",
    "sns.set_theme(style=\"darkgrid\")\n",
    "sns.set_context('paper')\n",
    "\n",
    "\n",
    "# Create the figure and axes\n",
    "fig, (ax1, ax2) = plt.subplots(1, 2, figsize=(12, 6))\n",
    "\n",
    "# Plot histogram \n",
    "sns.histplot(data=df, x='tenure', ax=ax1, color = \"darkorange\", bins = 10)\n",
    "ax1.set_title('Histogram')\n",
    "\n",
    "# Plot box plot \n",
    "sns.boxplot(data=df, x='tenure', ax=ax2, color = \"darkorange\")\n",
    "ax2.set_title('Box Plot')\n",
    "\n",
    "# Adjust spacing between subplots\n",
    "plt.tight_layout()\n",
    "\n",
    "\n",
    "plt.show()"
   ]
  },
  {
   "cell_type": "markdown",
   "metadata": {},
   "source": [
    "### Balance"
   ]
  },
  {
   "cell_type": "code",
   "execution_count": 40,
   "metadata": {},
   "outputs": [
    {
     "data": {
      "image/png": "[encoded data removed]",
      "text/plain": [
       "<Figure size 1200x600 with 2 Axes>"
      ]
     },
     "metadata": {},
     "output_type": "display_data"
    }
   ],
   "source": [
    "# Plot - Balance\n",
    "sns.set_theme(style=\"darkgrid\")\n",
    "sns.set_context('paper')\n",
    "\n",
    "\n",
    "# Create the figure and axes\n",
    "fig, (ax1, ax2) = plt.subplots(1, 2, figsize=(12, 6))\n",
    "\n",
    "# Plot histogram \n",
    "sns.histplot(data=df, x='balance', ax=ax1, color = \"darkslategrey\")\n",
    "ax1.set_title('Histogram')\n",
    "\n",
    "# Plot box plot \n",
    "sns.boxplot(data=df, x='balance', ax=ax2, color = \"darkslategrey\")\n",
    "ax2.set_title('Box Plot')\n",
    "\n",
    "# Adjust spacing between subplots\n",
    "plt.tight_layout()\n",
    "\n",
    "\n",
    "plt.show()"
   ]
  },
  {
   "cell_type": "markdown",
   "metadata": {},
   "source": [
    "### Estimated Salary"
   ]
  },
  {
   "cell_type": "code",
   "execution_count": 51,
   "metadata": {},
   "outputs": [
    {
     "data": {
      "image/png": "[encoded data removed]",
      "text/plain": [
       "<Figure size 1200x600 with 2 Axes>"
      ]
     },
     "metadata": {},
     "output_type": "display_data"
    }
   ],
   "source": [
    "# Plot - estimated_salary\n",
    "sns.set_theme(style=\"darkgrid\")\n",
    "sns.set_context('paper')\n",
    "\n",
    "\n",
    "# Create the figure and axes\n",
    "fig, (ax1, ax2) = plt.subplots(1, 2, figsize=(12, 6))\n",
    "\n",
    "# Plot histogram \n",
    "sns.histplot(data=df, x='estimated_salary', ax=ax1, color = \"darkcyan\", bins = 20)\n",
    "ax1.set_title('Histogram')\n",
    "\n",
    "# Plot box plot \n",
    "sns.boxplot(data=df, x='estimated_salary', ax=ax2, color = \"darkcyan\")\n",
    "ax2.set_title('Box Plot')\n",
    "\n",
    "# Adjust spacing between subplots\n",
    "plt.tight_layout()\n",
    "\n",
    "\n",
    "plt.show()"
   ]
  }
 ],
 "metadata": {
  "kernelspec": {
   "display_name": "base",
   "language": "python",
   "name": "python3"
  },
  "language_info": {
   "codemirror_mode": {
    "name": "ipython",
    "version": 3
   },
   "file_extension": ".py",
   "mimetype": "text/x-python",
   "name": "python",
   "nbconvert_exporter": "python",
   "pygments_lexer": "ipython3",
   "version": "3.9.16"
  },
  "orig_nbformat": 4
 },
 "nbformat": 4,
 "nbformat_minor": 2
}
